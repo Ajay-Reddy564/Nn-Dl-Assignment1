{
 "cells": [
  {
   "cell_type": "code",
   "execution_count": 2,
   "id": "04d16910",
   "metadata": {},
   "outputs": [
    {
     "name": "stdout",
     "output_type": "stream",
     "text": [
      "enter data : python\n",
      "typ\n"
     ]
    }
   ],
   "source": [
    "import random\n",
    "data = input(\"enter data : \") #take data from the user\n",
    "\n",
    "split =  random.randrange(2, len(data)-2)\n",
    "\n",
    "data = data.replace(data[split:],\"\") #using the replace function\n",
    "data = data[::-1]\n",
    "print(data) "
   ]
  },
  {
   "cell_type": "code",
   "execution_count": 4,
   "id": "2591e9b4",
   "metadata": {},
   "outputs": [
    {
     "name": "stdout",
     "output_type": "stream",
     "text": [
      "enter number 1 :3\n",
      "enter number 2 :6\n",
      "\n",
      " addition :  9\n",
      "substraction :  -3\n",
      "divison :  0.5\n",
      "multiplication :  18\n"
     ]
    }
   ],
   "source": [
    "num1 = int(input(\"enter number 1 :\")) #taking two input numbers from the user\n",
    "num2 = int(input(\"enter number 2 :\"))\n",
    "\n",
    "print(\"\\n addition : \",(num1+num2)) #four arithmatic operations\n",
    "print(\"substraction : \",(num1-num2))\n",
    "print(\"divison : \",(num1/num2))\n",
    "print(\"multiplication : \",(num1*num2))"
   ]
  },
  {
   "cell_type": "code",
   "execution_count": 7,
   "id": "dd590bc5",
   "metadata": {},
   "outputs": [
    {
     "name": "stdout",
     "output_type": "stream",
     "text": [
      "enter string :i love python\n",
      "i love pythons\n"
     ]
    }
   ],
   "source": [
    "inputValue = input(\"enter string :\") #string given by the user that needs to be replaced\n",
    "\n",
    "inputValue = inputValue.replace(\"python\",\"pythons\")\n",
    "\n",
    "print(inputValue)"
   ]
  },
  {
   "cell_type": "code",
   "execution_count": 6,
   "id": "03d136d6",
   "metadata": {},
   "outputs": [
    {
     "name": "stdout",
     "output_type": "stream",
     "text": [
      "Enter Students score : 90\n",
      "Grade = A\n"
     ]
    }
   ],
   "source": [
    "marks = int(input(\"Enter Students score : \")) #taking the marks from the user\n",
    "\n",
    "if(marks<=100 and marks>=90): #printing the grade \n",
    "    print(\"Grade = A\")\n",
    "elif(marks<=89 and marks>=80):\n",
    "     print(\"Grade = B\")\n",
    "elif(marks<=79 and marks>=70):\n",
    "     print(\"Grade = C\") \n",
    "elif(marks<=69 and marks>=60):\n",
    "     print(\"Grade = D\")\n",
    "elif(marks<=59 and marks>=0):\n",
    "     print(\"Grade = F\") "
   ]
  },
  {
   "cell_type": "code",
   "execution_count": null,
   "id": "efda07de",
   "metadata": {},
   "outputs": [],
   "source": []
  }
 ],
 "metadata": {
  "kernelspec": {
   "display_name": "Python 3 (ipykernel)",
   "language": "python",
   "name": "python3"
  },
  "language_info": {
   "codemirror_mode": {
    "name": "ipython",
    "version": 3
   },
   "file_extension": ".py",
   "mimetype": "text/x-python",
   "name": "python",
   "nbconvert_exporter": "python",
   "pygments_lexer": "ipython3",
   "version": "3.9.12"
  }
 },
 "nbformat": 4,
 "nbformat_minor": 5
}
